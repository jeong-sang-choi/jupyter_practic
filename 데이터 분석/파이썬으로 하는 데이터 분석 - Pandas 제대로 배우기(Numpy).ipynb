{
 "cells": [
  {
   "cell_type": "markdown",
   "metadata": {
    "colab_type": "text",
    "id": "PQJB_C744gkm"
   },
   "source": [
    "# Numpy"
   ]
  },
  {
   "cell_type": "code",
   "execution_count": 5,
   "metadata": {
    "colab": {},
    "colab_type": "code",
    "id": "KJ7UVQS84gko"
   },
   "outputs": [],
   "source": [
    "import numpy as np"
   ]
  },
  {
   "cell_type": "markdown",
   "metadata": {
    "colab_type": "text",
    "id": "HvL4hiSA4gkr"
   },
   "source": [
    "### 데이터 생성하여 ndarray 형태로 변환"
   ]
  },
  {
   "cell_type": "markdown",
   "metadata": {
    "colab_type": "text",
    "id": "gvaDs0Ua4gks"
   },
   "source": [
    "#### ※ ndarray : 넘파이의 데이터 타입 (다차원 배열 가능)\n"
   ]
  },
  {
   "cell_type": "code",
   "execution_count": 6,
   "metadata": {
    "colab": {
     "base_uri": "https://localhost:8080/",
     "height": 35
    },
    "colab_type": "code",
    "executionInfo": {
     "elapsed": 2258,
     "status": "ok",
     "timestamp": 1576821478878,
     "user": {
      "displayName": "김정욱",
      "photoUrl": "",
      "userId": "07474346534880337789"
     },
     "user_tz": -540
    },
    "id": "VySe432t4gkt",
    "outputId": "68ca4601-b55d-41f6-e29a-cf89b45eb488",
    "scrolled": true
   },
   "outputs": [
    {
     "data": {
      "text/plain": [
       "array([1, 2, 3])"
      ]
     },
     "execution_count": 6,
     "metadata": {},
     "output_type": "execute_result"
    }
   ],
   "source": [
    "a=np.array([1,2,3])\n",
    "a"
   ]
  },
  {
   "cell_type": "markdown",
   "metadata": {
    "colab_type": "text",
    "id": "IX4wGxgA4gkv"
   },
   "source": [
    "### 변수 a의 타입 알아보기"
   ]
  },
  {
   "cell_type": "code",
   "execution_count": 7,
   "metadata": {
    "colab": {
     "base_uri": "https://localhost:8080/",
     "height": 35
    },
    "colab_type": "code",
    "executionInfo": {
     "elapsed": 1159,
     "status": "ok",
     "timestamp": 1576821482312,
     "user": {
      "displayName": "김정욱",
      "photoUrl": "",
      "userId": "07474346534880337789"
     },
     "user_tz": -540
    },
    "id": "8ru_lHZB4gkw",
    "outputId": "ba977b52-136c-43bd-f7f8-10a9f597af15"
   },
   "outputs": [
    {
     "data": {
      "text/plain": [
       "numpy.ndarray"
      ]
     },
     "execution_count": 7,
     "metadata": {},
     "output_type": "execute_result"
    }
   ],
   "source": [
    "type(a)"
   ]
  },
  {
   "cell_type": "markdown",
   "metadata": {
    "colab_type": "text",
    "id": "iWMcKIDM4gky"
   },
   "source": [
    "### a의 행과 열 수 알아보기"
   ]
  },
  {
   "cell_type": "code",
   "execution_count": 4,
   "metadata": {
    "colab": {
     "base_uri": "https://localhost:8080/",
     "height": 35
    },
    "colab_type": "code",
    "executionInfo": {
     "elapsed": 2541,
     "status": "ok",
     "timestamp": 1576821491005,
     "user": {
      "displayName": "김정욱",
      "photoUrl": "",
      "userId": "07474346534880337789"
     },
     "user_tz": -540
    },
    "id": "xhBMqmp24gky",
    "outputId": "bf643a1c-7f83-4a06-bdf1-65083275ba63"
   },
   "outputs": [
    {
     "data": {
      "text/plain": [
       "(3,)"
      ]
     },
     "execution_count": 4,
     "metadata": {},
     "output_type": "execute_result"
    }
   ],
   "source": [
    "a.shape"
   ]
  },
  {
   "cell_type": "code",
   "execution_count": 8,
   "metadata": {
    "colab": {
     "base_uri": "https://localhost:8080/",
     "height": 53
    },
    "colab_type": "code",
    "executionInfo": {
     "elapsed": 1997,
     "status": "ok",
     "timestamp": 1576821491007,
     "user": {
      "displayName": "김정욱",
      "photoUrl": "",
      "userId": "07474346534880337789"
     },
     "user_tz": -540
    },
    "id": "HOc7X8cB4gk0",
    "outputId": "341c03e6-8480-492f-dc04-5c793af96c88"
   },
   "outputs": [
    {
     "data": {
      "text/plain": [
       "array([[1, 2, 3],\n",
       "       [4, 5, 6]])"
      ]
     },
     "execution_count": 8,
     "metadata": {},
     "output_type": "execute_result"
    }
   ],
   "source": [
    "b=np.array([[1,2,3],[4,5,6]])\n",
    "b"
   ]
  },
  {
   "cell_type": "code",
   "execution_count": 9,
   "metadata": {
    "colab": {
     "base_uri": "https://localhost:8080/",
     "height": 35
    },
    "colab_type": "code",
    "executionInfo": {
     "elapsed": 1400,
     "status": "ok",
     "timestamp": 1576821494665,
     "user": {
      "displayName": "김정욱",
      "photoUrl": "",
      "userId": "07474346534880337789"
     },
     "user_tz": -540
    },
    "id": "9r6uaxgK4gk2",
    "outputId": "d71c68d6-32fa-4cd9-d1eb-d27c516cffd7"
   },
   "outputs": [
    {
     "data": {
      "text/plain": [
       "numpy.ndarray"
      ]
     },
     "execution_count": 9,
     "metadata": {},
     "output_type": "execute_result"
    }
   ],
   "source": [
    "type(b)"
   ]
  },
  {
   "cell_type": "code",
   "execution_count": 10,
   "metadata": {
    "colab": {
     "base_uri": "https://localhost:8080/",
     "height": 35
    },
    "colab_type": "code",
    "executionInfo": {
     "elapsed": 697,
     "status": "ok",
     "timestamp": 1576821495695,
     "user": {
      "displayName": "김정욱",
      "photoUrl": "",
      "userId": "07474346534880337789"
     },
     "user_tz": -540
    },
    "id": "NJsRJQKv4gk3",
    "outputId": "e72aebe0-7df9-4dc6-cc05-36738570ea4f"
   },
   "outputs": [
    {
     "data": {
      "text/plain": [
       "(2, 3)"
      ]
     },
     "execution_count": 10,
     "metadata": {},
     "output_type": "execute_result"
    }
   ],
   "source": [
    "b.shape"
   ]
  },
  {
   "cell_type": "code",
   "execution_count": 11,
   "metadata": {
    "colab": {
     "base_uri": "https://localhost:8080/",
     "height": 35
    },
    "colab_type": "code",
    "executionInfo": {
     "elapsed": 785,
     "status": "ok",
     "timestamp": 1576821496526,
     "user": {
      "displayName": "김정욱",
      "photoUrl": "",
      "userId": "07474346534880337789"
     },
     "user_tz": -540
    },
    "id": "a3J-ZLz54gk5",
    "outputId": "98359261-4ac8-46ee-d9b8-a02b03d13861"
   },
   "outputs": [
    {
     "data": {
      "text/plain": [
       "array([[1, 2, 3]])"
      ]
     },
     "execution_count": 11,
     "metadata": {},
     "output_type": "execute_result"
    }
   ],
   "source": [
    "c=np.array([[1,2,3]])\n",
    "c"
   ]
  },
  {
   "cell_type": "code",
   "execution_count": 12,
   "metadata": {
    "colab": {
     "base_uri": "https://localhost:8080/",
     "height": 35
    },
    "colab_type": "code",
    "executionInfo": {
     "elapsed": 504,
     "status": "ok",
     "timestamp": 1576821496981,
     "user": {
      "displayName": "김정욱",
      "photoUrl": "",
      "userId": "07474346534880337789"
     },
     "user_tz": -540
    },
    "id": "_umE8r9Q4gk7",
    "outputId": "de559fd4-4009-45a2-f14a-0443fdfd36a4"
   },
   "outputs": [
    {
     "data": {
      "text/plain": [
       "numpy.ndarray"
      ]
     },
     "execution_count": 12,
     "metadata": {},
     "output_type": "execute_result"
    }
   ],
   "source": [
    "type(c)"
   ]
  },
  {
   "cell_type": "code",
   "execution_count": 13,
   "metadata": {
    "colab": {
     "base_uri": "https://localhost:8080/",
     "height": 35
    },
    "colab_type": "code",
    "executionInfo": {
     "elapsed": 729,
     "status": "ok",
     "timestamp": 1576821497951,
     "user": {
      "displayName": "김정욱",
      "photoUrl": "",
      "userId": "07474346534880337789"
     },
     "user_tz": -540
    },
    "id": "k1MGYYF-4gk8",
    "outputId": "5023ade6-5ba8-4693-a0e5-48833f769bf8"
   },
   "outputs": [
    {
     "data": {
      "text/plain": [
       "(1, 3)"
      ]
     },
     "execution_count": 13,
     "metadata": {},
     "output_type": "execute_result"
    }
   ],
   "source": [
    "c.shape"
   ]
  },
  {
   "cell_type": "markdown",
   "metadata": {
    "colab_type": "text",
    "id": "pphxwi6W4gk-"
   },
   "source": [
    "### 각 array가 몇 차원인지 확인하기"
   ]
  },
  {
   "cell_type": "code",
   "execution_count": 14,
   "metadata": {
    "colab": {
     "base_uri": "https://localhost:8080/",
     "height": 35
    },
    "colab_type": "code",
    "executionInfo": {
     "elapsed": 507,
     "status": "ok",
     "timestamp": 1576821498997,
     "user": {
      "displayName": "김정욱",
      "photoUrl": "",
      "userId": "07474346534880337789"
     },
     "user_tz": -540
    },
    "id": "pG1C4F8o4gk-",
    "outputId": "5b13d6c5-16d8-49fa-80c7-fcde65ef1f47"
   },
   "outputs": [
    {
     "data": {
      "text/plain": [
       "1"
      ]
     },
     "execution_count": 14,
     "metadata": {},
     "output_type": "execute_result"
    }
   ],
   "source": [
    "a.ndim"
   ]
  },
  {
   "cell_type": "code",
   "execution_count": 15,
   "metadata": {
    "colab": {
     "base_uri": "https://localhost:8080/",
     "height": 35
    },
    "colab_type": "code",
    "executionInfo": {
     "elapsed": 1431,
     "status": "ok",
     "timestamp": 1576821503118,
     "user": {
      "displayName": "김정욱",
      "photoUrl": "",
      "userId": "07474346534880337789"
     },
     "user_tz": -540
    },
    "id": "IXQA5gjG4glA",
    "outputId": "b5de7a43-8dc9-4e60-83a1-8e657930afb3"
   },
   "outputs": [
    {
     "data": {
      "text/plain": [
       "2"
      ]
     },
     "execution_count": 15,
     "metadata": {},
     "output_type": "execute_result"
    }
   ],
   "source": [
    "b.ndim"
   ]
  },
  {
   "cell_type": "markdown",
   "metadata": {
    "colab_type": "text",
    "id": "xV2beYbE4glC"
   },
   "source": [
    "#### ndarray 안에 들어가 있는 데이터값은 정수(int), 실수(float), 문자열(str), 불(bool) 모두 가능\n",
    "#### 하나의 ndarray안에는 같은 데이터타입을 가지는 데이터값만 들어올 수 있음\n",
    "#### 만약 다른 데이터 타입을 가지는 데이터값이 있다면, 크기가 가장 큰 데이터 타입으로 형변환을 하여 일괄 적용함"
   ]
  },
  {
   "cell_type": "markdown",
   "metadata": {
    "colab_type": "text",
    "id": "Hp_jJgD14glC"
   },
   "source": [
    "### 데이터 값의 데이터타입 알아보기"
   ]
  },
  {
   "cell_type": "code",
   "execution_count": 16,
   "metadata": {
    "colab": {
     "base_uri": "https://localhost:8080/",
     "height": 35
    },
    "colab_type": "code",
    "executionInfo": {
     "elapsed": 942,
     "status": "ok",
     "timestamp": 1576821512890,
     "user": {
      "displayName": "김정욱",
      "photoUrl": "",
      "userId": "07474346534880337789"
     },
     "user_tz": -540
    },
    "id": "Ewb5wyCy4glD",
    "outputId": "2e2f45f9-c980-4353-a585-45d96c97f395"
   },
   "outputs": [
    {
     "data": {
      "text/plain": [
       "dtype('int32')"
      ]
     },
     "execution_count": 16,
     "metadata": {},
     "output_type": "execute_result"
    }
   ],
   "source": [
    "a.dtype"
   ]
  },
  {
   "cell_type": "markdown",
   "metadata": {
    "colab_type": "text",
    "id": "d_6rd5Xk4glF"
   },
   "source": [
    "### 데이터값을 다른 데이터타입으로 변환하기"
   ]
  },
  {
   "cell_type": "code",
   "execution_count": 17,
   "metadata": {
    "colab": {
     "base_uri": "https://localhost:8080/",
     "height": 35
    },
    "colab_type": "code",
    "executionInfo": {
     "elapsed": 803,
     "status": "ok",
     "timestamp": 1576821513305,
     "user": {
      "displayName": "김정욱",
      "photoUrl": "",
      "userId": "07474346534880337789"
     },
     "user_tz": -540
    },
    "id": "Y5gPymhn4glF",
    "outputId": "c140e915-d588-4bc2-a0cc-05acdefe7109"
   },
   "outputs": [
    {
     "data": {
      "text/plain": [
       "array([1., 2., 3.])"
      ]
     },
     "execution_count": 17,
     "metadata": {},
     "output_type": "execute_result"
    }
   ],
   "source": [
    "a.astype('float64')"
   ]
  },
  {
   "cell_type": "markdown",
   "metadata": {
    "colab_type": "text",
    "id": "rwb9-8jP4glH"
   },
   "source": [
    "### ndarray 생성하기 - arange\n",
    "#### 범위를 설정하면 범위안에서 값을 생성\n",
    "#### 파이썬의 range와 유사"
   ]
  },
  {
   "cell_type": "markdown",
   "metadata": {
    "colab_type": "text",
    "id": "GII_eq5a4glH"
   },
   "source": [
    "arange(시작하는 값, 끝나는 값 다음 값, 변하는 값)\n",
    "\n",
    "변하는 값이 +1일 경우 생략가능\n",
    "\n",
    "시작하는 값이 0일 경우 생략가능"
   ]
  },
  {
   "cell_type": "code",
   "execution_count": 18,
   "metadata": {
    "colab": {
     "base_uri": "https://localhost:8080/",
     "height": 35
    },
    "colab_type": "code",
    "executionInfo": {
     "elapsed": 1603,
     "status": "ok",
     "timestamp": 1576821514478,
     "user": {
      "displayName": "김정욱",
      "photoUrl": "",
      "userId": "07474346534880337789"
     },
     "user_tz": -540
    },
    "id": "_HyTOWQZ4glI",
    "outputId": "2ee70e4c-d19f-446c-8ef3-cd6c4aeb5dc3"
   },
   "outputs": [
    {
     "data": {
      "text/plain": [
       "array([4, 5, 6, 7, 8, 9])"
      ]
     },
     "execution_count": 18,
     "metadata": {},
     "output_type": "execute_result"
    }
   ],
   "source": [
    "d=np.arange(4, 10, 1)\n",
    "d"
   ]
  },
  {
   "cell_type": "code",
   "execution_count": 19,
   "metadata": {
    "colab": {
     "base_uri": "https://localhost:8080/",
     "height": 35
    },
    "colab_type": "code",
    "executionInfo": {
     "elapsed": 1482,
     "status": "ok",
     "timestamp": 1576821514479,
     "user": {
      "displayName": "김정욱",
      "photoUrl": "",
      "userId": "07474346534880337789"
     },
     "user_tz": -540
    },
    "id": "qHRojsG_4glJ",
    "outputId": "84ca0782-768d-4618-816c-e1fa4f848db3"
   },
   "outputs": [
    {
     "data": {
      "text/plain": [
       "array([4, 6, 8])"
      ]
     },
     "execution_count": 19,
     "metadata": {},
     "output_type": "execute_result"
    }
   ],
   "source": [
    "d=np.arange(4, 10, 2)\n",
    "d"
   ]
  },
  {
   "cell_type": "code",
   "execution_count": 20,
   "metadata": {
    "colab": {
     "base_uri": "https://localhost:8080/",
     "height": 35
    },
    "colab_type": "code",
    "executionInfo": {
     "elapsed": 1763,
     "status": "ok",
     "timestamp": 1576821514864,
     "user": {
      "displayName": "김정욱",
      "photoUrl": "",
      "userId": "07474346534880337789"
     },
     "user_tz": -540
    },
    "id": "HpQzbUrM4glL",
    "outputId": "d0600b52-6e3c-4508-8b10-b6cc504fe489"
   },
   "outputs": [
    {
     "data": {
      "text/plain": [
       "array([4, 5, 6, 7, 8, 9])"
      ]
     },
     "execution_count": 20,
     "metadata": {},
     "output_type": "execute_result"
    }
   ],
   "source": [
    "d=np.arange(4, 10)\n",
    "d"
   ]
  },
  {
   "cell_type": "code",
   "execution_count": 21,
   "metadata": {
    "colab": {
     "base_uri": "https://localhost:8080/",
     "height": 35
    },
    "colab_type": "code",
    "executionInfo": {
     "elapsed": 1155,
     "status": "ok",
     "timestamp": 1576821514868,
     "user": {
      "displayName": "김정욱",
      "photoUrl": "",
      "userId": "07474346534880337789"
     },
     "user_tz": -540
    },
    "id": "VOaQioxP4glO",
    "outputId": "ebb424f0-157a-4495-bd45-6d0a90124969"
   },
   "outputs": [
    {
     "data": {
      "text/plain": [
       "array([0, 1, 2, 3, 4, 5, 6, 7, 8, 9])"
      ]
     },
     "execution_count": 21,
     "metadata": {},
     "output_type": "execute_result"
    }
   ],
   "source": [
    "d=np.arange(10)\n",
    "d"
   ]
  },
  {
   "cell_type": "markdown",
   "metadata": {
    "colab_type": "text",
    "id": "Tfxv6hgT4glQ"
   },
   "source": [
    "### ndarray 생성하기 -  linspace\n",
    "\n",
    "#### linspace(시작, 끝, 개수)\n",
    "\n",
    "#### 디폴트로 모든 데이터값의 데이터타입은 float64"
   ]
  },
  {
   "cell_type": "code",
   "execution_count": 22,
   "metadata": {
    "colab": {
     "base_uri": "https://localhost:8080/",
     "height": 35
    },
    "colab_type": "code",
    "executionInfo": {
     "elapsed": 999,
     "status": "ok",
     "timestamp": 1576821523201,
     "user": {
      "displayName": "김정욱",
      "photoUrl": "",
      "userId": "07474346534880337789"
     },
     "user_tz": -540
    },
    "id": "168Dze8B4glR",
    "outputId": "8fa6ba77-0945-46a3-e12a-1d57764601ef"
   },
   "outputs": [
    {
     "data": {
      "text/plain": [
       "array([ 1.,  2.,  3.,  4.,  5.,  6.,  7.,  8.,  9., 10.])"
      ]
     },
     "execution_count": 22,
     "metadata": {},
     "output_type": "execute_result"
    }
   ],
   "source": [
    "g=np.linspace(1,10,10)\n",
    "g"
   ]
  },
  {
   "cell_type": "code",
   "execution_count": 24,
   "metadata": {
    "colab": {
     "base_uri": "https://localhost:8080/",
     "height": 89
    },
    "colab_type": "code",
    "executionInfo": {
     "elapsed": 672,
     "status": "ok",
     "timestamp": 1576821523203,
     "user": {
      "displayName": "김정욱",
      "photoUrl": "",
      "userId": "07474346534880337789"
     },
     "user_tz": -540
    },
    "id": "YacmmEAX4glS",
    "outputId": "d5bf1e14-5346-45a1-f8e7-52088a77d6c2"
   },
   "outputs": [
    {
     "data": {
      "text/plain": [
       "array([ 1.        ,  1.47368421,  1.94736842,  2.42105263,  2.89473684,\n",
       "        3.36842105,  3.84210526,  4.31578947,  4.78947368,  5.26315789,\n",
       "        5.73684211,  6.21052632,  6.68421053,  7.15789474,  7.63157895,\n",
       "        8.10526316,  8.57894737,  9.05263158,  9.52631579, 10.        ])"
      ]
     },
     "execution_count": 24,
     "metadata": {},
     "output_type": "execute_result"
    }
   ],
   "source": [
    "g=np.linspace(1,10,20)\n",
    "g"
   ]
  },
  {
   "cell_type": "markdown",
   "metadata": {
    "colab_type": "text",
    "id": "ig1VNn2-4glU"
   },
   "source": [
    "### ndarray 생성하기 - zeros\n",
    "#### 모든 값을 0으로 채운 ndarray 생성"
   ]
  },
  {
   "cell_type": "code",
   "execution_count": 25,
   "metadata": {
    "colab": {
     "base_uri": "https://localhost:8080/",
     "height": 71
    },
    "colab_type": "code",
    "executionInfo": {
     "elapsed": 1568,
     "status": "ok",
     "timestamp": 1576821525418,
     "user": {
      "displayName": "김정욱",
      "photoUrl": "",
      "userId": "07474346534880337789"
     },
     "user_tz": -540
    },
    "id": "-oh41LKP4glU",
    "outputId": "cef84faf-3557-4fbd-b029-be6d99631dbd"
   },
   "outputs": [
    {
     "data": {
      "text/plain": [
       "array([[0., 0.],\n",
       "       [0., 0.],\n",
       "       [0., 0.]])"
      ]
     },
     "execution_count": 25,
     "metadata": {},
     "output_type": "execute_result"
    }
   ],
   "source": [
    "e=np.zeros((3,2))\n",
    "e"
   ]
  },
  {
   "cell_type": "code",
   "execution_count": 26,
   "metadata": {
    "colab": {},
    "colab_type": "code",
    "id": "FJ2YnR094glW",
    "outputId": "e6d9749e-7266-49c1-f856-33baef1b2851"
   },
   "outputs": [
    {
     "data": {
      "text/plain": [
       "array([[0, 0],\n",
       "       [0, 0],\n",
       "       [0, 0]])"
      ]
     },
     "execution_count": 26,
     "metadata": {},
     "output_type": "execute_result"
    }
   ],
   "source": [
    "e=np.zeros((3,2), dtype=('int32'))\n",
    "e"
   ]
  },
  {
   "cell_type": "markdown",
   "metadata": {
    "colab_type": "text",
    "id": "Ft_JIro74glY"
   },
   "source": [
    "### ndarray 생성하기 - ones\n",
    "#### 모든 값을 1으로 채운 ndarray 생성"
   ]
  },
  {
   "cell_type": "code",
   "execution_count": 27,
   "metadata": {
    "colab": {
     "base_uri": "https://localhost:8080/",
     "height": 71
    },
    "colab_type": "code",
    "executionInfo": {
     "elapsed": 1116,
     "status": "ok",
     "timestamp": 1576821541601,
     "user": {
      "displayName": "김정욱",
      "photoUrl": "",
      "userId": "07474346534880337789"
     },
     "user_tz": -540
    },
    "id": "OV9QYDry4glY",
    "outputId": "7f12c938-4196-45b3-bf47-c60f7d37043b"
   },
   "outputs": [
    {
     "data": {
      "text/plain": [
       "array([[1, 1],\n",
       "       [1, 1],\n",
       "       [1, 1]])"
      ]
     },
     "execution_count": 27,
     "metadata": {},
     "output_type": "execute_result"
    }
   ],
   "source": [
    "f=np.ones((3,2), dtype=('int32'))\n",
    "f"
   ]
  },
  {
   "cell_type": "markdown",
   "metadata": {
    "colab_type": "text",
    "id": "oGANv89L4glZ"
   },
   "source": [
    "### ndarray의 차원 변경하기"
   ]
  },
  {
   "cell_type": "code",
   "execution_count": 28,
   "metadata": {
    "colab": {
     "base_uri": "https://localhost:8080/",
     "height": 35
    },
    "colab_type": "code",
    "executionInfo": {
     "elapsed": 891,
     "status": "ok",
     "timestamp": 1576821542666,
     "user": {
      "displayName": "김정욱",
      "photoUrl": "",
      "userId": "07474346534880337789"
     },
     "user_tz": -540
    },
    "id": "mjpNmxxg4gla",
    "outputId": "61e22fdb-6f0c-4151-db12-cfdcbb79bc5b"
   },
   "outputs": [
    {
     "data": {
      "text/plain": [
       "array([0, 1, 2, 3, 4, 5, 6, 7, 8, 9])"
      ]
     },
     "execution_count": 28,
     "metadata": {},
     "output_type": "execute_result"
    }
   ],
   "source": [
    "a=np.arange(10)\n",
    "a"
   ]
  },
  {
   "cell_type": "code",
   "execution_count": 29,
   "metadata": {
    "colab": {
     "base_uri": "https://localhost:8080/",
     "height": 53
    },
    "colab_type": "code",
    "executionInfo": {
     "elapsed": 944,
     "status": "ok",
     "timestamp": 1576821543679,
     "user": {
      "displayName": "김정욱",
      "photoUrl": "",
      "userId": "07474346534880337789"
     },
     "user_tz": -540
    },
    "id": "KxzVw8FI4glb",
    "outputId": "138107ae-b344-4c60-debe-046b187320de"
   },
   "outputs": [
    {
     "data": {
      "text/plain": [
       "array([[0, 1, 2, 3, 4],\n",
       "       [5, 6, 7, 8, 9]])"
      ]
     },
     "execution_count": 29,
     "metadata": {},
     "output_type": "execute_result"
    }
   ],
   "source": [
    "a1=a.reshape(2,5)\n",
    "a1"
   ]
  },
  {
   "cell_type": "code",
   "execution_count": 30,
   "metadata": {
    "colab": {
     "base_uri": "https://localhost:8080/",
     "height": 108
    },
    "colab_type": "code",
    "executionInfo": {
     "elapsed": 1439,
     "status": "ok",
     "timestamp": 1576821549345,
     "user": {
      "displayName": "김정욱",
      "photoUrl": "",
      "userId": "07474346534880337789"
     },
     "user_tz": -540
    },
    "id": "TwXTuktc4gld",
    "outputId": "598062fb-683c-42b8-ef93-5ccfaf9563e2"
   },
   "outputs": [
    {
     "data": {
      "text/plain": [
       "array([[0, 1],\n",
       "       [2, 3],\n",
       "       [4, 5],\n",
       "       [6, 7],\n",
       "       [8, 9]])"
      ]
     },
     "execution_count": 30,
     "metadata": {},
     "output_type": "execute_result"
    }
   ],
   "source": [
    "a2=a.reshape(5,2)\n",
    "a2"
   ]
  },
  {
   "cell_type": "markdown",
   "metadata": {
    "colab_type": "text",
    "id": "wIWDsoUp4glf"
   },
   "source": [
    "reshape에서 지정한 사이즈로 변경이 불가능하면 오류가 발생한다"
   ]
  },
  {
   "cell_type": "code",
   "execution_count": 31,
   "metadata": {
    "colab": {
     "base_uri": "https://localhost:8080/",
     "height": 190
    },
    "colab_type": "code",
    "executionInfo": {
     "elapsed": 993,
     "status": "error",
     "timestamp": 1576821550329,
     "user": {
      "displayName": "김정욱",
      "photoUrl": "",
      "userId": "07474346534880337789"
     },
     "user_tz": -540
    },
    "id": "bTXgQVCA4glf",
    "outputId": "e8a3fbfb-87df-470b-fa0e-5c40fe9aacb5"
   },
   "outputs": [
    {
     "ename": "ValueError",
     "evalue": "cannot reshape array of size 10 into shape (3,5)",
     "output_type": "error",
     "traceback": [
      "\u001b[1;31m---------------------------------------------------------------------------\u001b[0m",
      "\u001b[1;31mValueError\u001b[0m                                Traceback (most recent call last)",
      "\u001b[1;32m<ipython-input-31-616eef06d3a6>\u001b[0m in \u001b[0;36m<module>\u001b[1;34m\u001b[0m\n\u001b[1;32m----> 1\u001b[1;33m \u001b[0ma3\u001b[0m\u001b[1;33m=\u001b[0m\u001b[0ma\u001b[0m\u001b[1;33m.\u001b[0m\u001b[0mreshape\u001b[0m\u001b[1;33m(\u001b[0m\u001b[1;36m3\u001b[0m\u001b[1;33m,\u001b[0m\u001b[1;36m5\u001b[0m\u001b[1;33m)\u001b[0m\u001b[1;33m\u001b[0m\u001b[1;33m\u001b[0m\u001b[0m\n\u001b[0m\u001b[0;32m      2\u001b[0m \u001b[0ma3\u001b[0m\u001b[1;33m\u001b[0m\u001b[1;33m\u001b[0m\u001b[0m\n",
      "\u001b[1;31mValueError\u001b[0m: cannot reshape array of size 10 into shape (3,5)"
     ]
    }
   ],
   "source": [
    "a3=a.reshape(3,5)\n",
    "a3"
   ]
  },
  {
   "cell_type": "markdown",
   "metadata": {
    "colab_type": "text",
    "id": "db8T3A-K4gll"
   },
   "source": [
    "#### 인자를 -1로 적용하는 경우는 다른 인자에 맞춰서 적용해줌"
   ]
  },
  {
   "cell_type": "code",
   "execution_count": 32,
   "metadata": {
    "colab": {
     "base_uri": "https://localhost:8080/",
     "height": 53
    },
    "colab_type": "code",
    "executionInfo": {
     "elapsed": 975,
     "status": "ok",
     "timestamp": 1576821562025,
     "user": {
      "displayName": "김정욱",
      "photoUrl": "",
      "userId": "07474346534880337789"
     },
     "user_tz": -540
    },
    "id": "EYv6xL9Q4gll",
    "outputId": "e7aabc01-dcc2-41d8-ec00-ffc12da61d50"
   },
   "outputs": [
    {
     "data": {
      "text/plain": [
       "array([[0, 1, 2, 3, 4],\n",
       "       [5, 6, 7, 8, 9]])"
      ]
     },
     "execution_count": 32,
     "metadata": {},
     "output_type": "execute_result"
    }
   ],
   "source": [
    "a4=a.reshape(-1,5)\n",
    "a4"
   ]
  },
  {
   "cell_type": "code",
   "execution_count": 33,
   "metadata": {
    "colab": {
     "base_uri": "https://localhost:8080/",
     "height": 53
    },
    "colab_type": "code",
    "executionInfo": {
     "elapsed": 630,
     "status": "ok",
     "timestamp": 1576821562027,
     "user": {
      "displayName": "김정욱",
      "photoUrl": "",
      "userId": "07474346534880337789"
     },
     "user_tz": -540
    },
    "id": "M2K4j4KR4gln",
    "outputId": "7516f274-88f0-4afd-9352-97a71c7e9f8c"
   },
   "outputs": [
    {
     "data": {
      "text/plain": [
       "array([[0, 1, 2, 3, 4],\n",
       "       [5, 6, 7, 8, 9]])"
      ]
     },
     "execution_count": 33,
     "metadata": {},
     "output_type": "execute_result"
    }
   ],
   "source": [
    "a5=a.reshape(2,-1)\n",
    "a5"
   ]
  },
  {
   "cell_type": "markdown",
   "metadata": {
    "colab_type": "text",
    "id": "ruX9VtGh4glo"
   },
   "source": [
    "### 인덱싱"
   ]
  },
  {
   "cell_type": "markdown",
   "metadata": {
    "colab_type": "text",
    "id": "P80Nqq3D4glp"
   },
   "source": [
    "#### 특정 데이터를 추출, 수정"
   ]
  },
  {
   "cell_type": "code",
   "execution_count": 34,
   "metadata": {
    "colab": {
     "base_uri": "https://localhost:8080/",
     "height": 35
    },
    "colab_type": "code",
    "executionInfo": {
     "elapsed": 525,
     "status": "ok",
     "timestamp": 1576821563391,
     "user": {
      "displayName": "김정욱",
      "photoUrl": "",
      "userId": "07474346534880337789"
     },
     "user_tz": -540
    },
    "id": "4fKL5v2q4glp",
    "outputId": "a4146d39-7498-4f20-dba2-0bcc9facb576"
   },
   "outputs": [
    {
     "data": {
      "text/plain": [
       "array([0, 1, 2, 3, 4, 5, 6, 7, 8, 9])"
      ]
     },
     "execution_count": 34,
     "metadata": {},
     "output_type": "execute_result"
    }
   ],
   "source": [
    "a"
   ]
  },
  {
   "cell_type": "code",
   "execution_count": 35,
   "metadata": {
    "colab": {
     "base_uri": "https://localhost:8080/",
     "height": 35
    },
    "colab_type": "code",
    "executionInfo": {
     "elapsed": 541,
     "status": "ok",
     "timestamp": 1576821563842,
     "user": {
      "displayName": "김정욱",
      "photoUrl": "",
      "userId": "07474346534880337789"
     },
     "user_tz": -540
    },
    "id": "8PTu1qts4glq",
    "outputId": "594b1a77-dde4-4486-a084-0745e2fb8370"
   },
   "outputs": [
    {
     "data": {
      "text/plain": [
       "3"
      ]
     },
     "execution_count": 35,
     "metadata": {},
     "output_type": "execute_result"
    }
   ],
   "source": [
    "a[3]"
   ]
  },
  {
   "cell_type": "code",
   "execution_count": 36,
   "metadata": {
    "colab": {
     "base_uri": "https://localhost:8080/",
     "height": 35
    },
    "colab_type": "code",
    "executionInfo": {
     "elapsed": 605,
     "status": "ok",
     "timestamp": 1576821564681,
     "user": {
      "displayName": "김정욱",
      "photoUrl": "",
      "userId": "07474346534880337789"
     },
     "user_tz": -540
    },
    "id": "yGXLbKPd4gls",
    "outputId": "20f24ed4-564b-4c46-8807-c601b9813efe"
   },
   "outputs": [
    {
     "data": {
      "text/plain": [
       "9"
      ]
     },
     "execution_count": 36,
     "metadata": {},
     "output_type": "execute_result"
    }
   ],
   "source": [
    "a[-1]"
   ]
  },
  {
   "cell_type": "code",
   "execution_count": 37,
   "metadata": {
    "colab": {
     "base_uri": "https://localhost:8080/",
     "height": 35
    },
    "colab_type": "code",
    "executionInfo": {
     "elapsed": 643,
     "status": "ok",
     "timestamp": 1576821565254,
     "user": {
      "displayName": "김정욱",
      "photoUrl": "",
      "userId": "07474346534880337789"
     },
     "user_tz": -540
    },
    "id": "2FqSyuIJ4glt",
    "outputId": "40384bae-c645-4b83-a8c2-c09ee9e01e05"
   },
   "outputs": [
    {
     "data": {
      "text/plain": [
       "array([ 0,  1,  2,  3, 10,  5,  6,  7,  8,  9])"
      ]
     },
     "execution_count": 37,
     "metadata": {},
     "output_type": "execute_result"
    }
   ],
   "source": [
    "a[4]=10\n",
    "a"
   ]
  },
  {
   "cell_type": "markdown",
   "metadata": {
    "colab_type": "text",
    "id": "3Hu-Ae0R4glu"
   },
   "source": [
    "#### 2차원에서 특정데이터 추출, 수정"
   ]
  },
  {
   "cell_type": "code",
   "execution_count": 38,
   "metadata": {
    "colab": {
     "base_uri": "https://localhost:8080/",
     "height": 35
    },
    "colab_type": "code",
    "executionInfo": {
     "elapsed": 1421,
     "status": "ok",
     "timestamp": 1576821567072,
     "user": {
      "displayName": "김정욱",
      "photoUrl": "",
      "userId": "07474346534880337789"
     },
     "user_tz": -540
    },
    "id": "vNXv-STw4glv",
    "outputId": "8ad2e24c-7721-48b4-f379-07b4a078afb7"
   },
   "outputs": [
    {
     "data": {
      "text/plain": [
       "array([1, 2, 3, 4, 5, 6, 7, 8, 9])"
      ]
     },
     "execution_count": 38,
     "metadata": {},
     "output_type": "execute_result"
    }
   ],
   "source": [
    "b=np.arange(1,10)\n",
    "b"
   ]
  },
  {
   "cell_type": "code",
   "execution_count": 39,
   "metadata": {
    "colab": {
     "base_uri": "https://localhost:8080/",
     "height": 71
    },
    "colab_type": "code",
    "executionInfo": {
     "elapsed": 998,
     "status": "ok",
     "timestamp": 1576821567074,
     "user": {
      "displayName": "김정욱",
      "photoUrl": "",
      "userId": "07474346534880337789"
     },
     "user_tz": -540
    },
    "id": "E9H5NbcQ4glw",
    "outputId": "21a375bd-4fe7-4bb6-ddd4-cb60bfabf975"
   },
   "outputs": [
    {
     "data": {
      "text/plain": [
       "array([[1, 2, 3],\n",
       "       [4, 5, 6],\n",
       "       [7, 8, 9]])"
      ]
     },
     "execution_count": 39,
     "metadata": {},
     "output_type": "execute_result"
    }
   ],
   "source": [
    "b=b.reshape(3,3)\n",
    "b"
   ]
  },
  {
   "cell_type": "code",
   "execution_count": 40,
   "metadata": {
    "colab": {
     "base_uri": "https://localhost:8080/",
     "height": 35
    },
    "colab_type": "code",
    "executionInfo": {
     "elapsed": 552,
     "status": "ok",
     "timestamp": 1576821567076,
     "user": {
      "displayName": "김정욱",
      "photoUrl": "",
      "userId": "07474346534880337789"
     },
     "user_tz": -540
    },
    "id": "CB1_TKtL4gly",
    "outputId": "78470692-9eac-451f-82ef-f343c562c848"
   },
   "outputs": [
    {
     "data": {
      "text/plain": [
       "6"
      ]
     },
     "execution_count": 40,
     "metadata": {},
     "output_type": "execute_result"
    }
   ],
   "source": [
    "b[1][2]"
   ]
  },
  {
   "cell_type": "code",
   "execution_count": 41,
   "metadata": {
    "colab": {
     "base_uri": "https://localhost:8080/",
     "height": 71
    },
    "colab_type": "code",
    "executionInfo": {
     "elapsed": 1093,
     "status": "ok",
     "timestamp": 1576821568230,
     "user": {
      "displayName": "김정욱",
      "photoUrl": "",
      "userId": "07474346534880337789"
     },
     "user_tz": -540
    },
    "id": "tCzkw_at4glz",
    "outputId": "c999daa1-1d36-40bd-e927-c9ee7a48d86d"
   },
   "outputs": [
    {
     "data": {
      "text/plain": [
       "array([[ 1,  2,  3],\n",
       "       [ 4,  5, 10],\n",
       "       [ 7,  8,  9]])"
      ]
     },
     "execution_count": 41,
     "metadata": {},
     "output_type": "execute_result"
    }
   ],
   "source": [
    "b[1][2]=10\n",
    "b"
   ]
  },
  {
   "cell_type": "markdown",
   "metadata": {
    "colab_type": "text",
    "id": "HhplY3wL4gl1"
   },
   "source": [
    "#### 슬라이싱"
   ]
  },
  {
   "cell_type": "markdown",
   "metadata": {
    "colab_type": "text",
    "id": "KYVT9yPT4gl2"
   },
   "source": [
    "[시작위치, 끝나는위치+1]"
   ]
  },
  {
   "cell_type": "code",
   "execution_count": 42,
   "metadata": {
    "colab": {
     "base_uri": "https://localhost:8080/",
     "height": 35
    },
    "colab_type": "code",
    "executionInfo": {
     "elapsed": 508,
     "status": "ok",
     "timestamp": 1576821569491,
     "user": {
      "displayName": "김정욱",
      "photoUrl": "",
      "userId": "07474346534880337789"
     },
     "user_tz": -540
    },
    "id": "rzM0Ufgm4gl3",
    "outputId": "763fdbb5-6923-4557-f72d-30893bfe305a",
    "scrolled": false
   },
   "outputs": [
    {
     "data": {
      "text/plain": [
       "array([0, 1, 2, 3, 4, 5, 6, 7, 8, 9])"
      ]
     },
     "execution_count": 42,
     "metadata": {},
     "output_type": "execute_result"
    }
   ],
   "source": [
    "a=np.arange(10)\n",
    "a"
   ]
  },
  {
   "cell_type": "code",
   "execution_count": 43,
   "metadata": {
    "colab": {
     "base_uri": "https://localhost:8080/",
     "height": 35
    },
    "colab_type": "code",
    "executionInfo": {
     "elapsed": 645,
     "status": "ok",
     "timestamp": 1576821569952,
     "user": {
      "displayName": "김정욱",
      "photoUrl": "",
      "userId": "07474346534880337789"
     },
     "user_tz": -540
    },
    "id": "Sj2kxC634gl5",
    "outputId": "514bfc6c-269c-433f-8243-ea687849d419"
   },
   "outputs": [
    {
     "data": {
      "text/plain": [
       "array([2, 3, 4])"
      ]
     },
     "execution_count": 43,
     "metadata": {},
     "output_type": "execute_result"
    }
   ],
   "source": [
    "a[2:5]"
   ]
  },
  {
   "cell_type": "code",
   "execution_count": 44,
   "metadata": {
    "colab": {
     "base_uri": "https://localhost:8080/",
     "height": 35
    },
    "colab_type": "code",
    "executionInfo": {
     "elapsed": 669,
     "status": "ok",
     "timestamp": 1576821570322,
     "user": {
      "displayName": "김정욱",
      "photoUrl": "",
      "userId": "07474346534880337789"
     },
     "user_tz": -540
    },
    "id": "oNeKusr54gl6",
    "outputId": "b82730a2-bdc8-4b5a-d5d3-ec613c4041cd"
   },
   "outputs": [
    {
     "data": {
      "text/plain": [
       "array([3, 4, 5, 6, 7, 8, 9])"
      ]
     },
     "execution_count": 44,
     "metadata": {},
     "output_type": "execute_result"
    }
   ],
   "source": [
    "a[3:]"
   ]
  },
  {
   "cell_type": "code",
   "execution_count": 45,
   "metadata": {
    "colab": {
     "base_uri": "https://localhost:8080/",
     "height": 35
    },
    "colab_type": "code",
    "executionInfo": {
     "elapsed": 600,
     "status": "ok",
     "timestamp": 1576821570695,
     "user": {
      "displayName": "김정욱",
      "photoUrl": "",
      "userId": "07474346534880337789"
     },
     "user_tz": -540
    },
    "id": "F5aKICJ64gl8",
    "outputId": "c1102198-2db1-4e4b-98a7-c3453c75ec72"
   },
   "outputs": [
    {
     "data": {
      "text/plain": [
       "array([0, 1, 2, 3, 4, 5])"
      ]
     },
     "execution_count": 45,
     "metadata": {},
     "output_type": "execute_result"
    }
   ],
   "source": [
    "a[:6]"
   ]
  },
  {
   "cell_type": "markdown",
   "metadata": {
    "colab_type": "text",
    "id": "IvxjKE7i4gl9"
   },
   "source": [
    "2차원에서 슬라이싱"
   ]
  },
  {
   "cell_type": "code",
   "execution_count": 46,
   "metadata": {
    "colab": {
     "base_uri": "https://localhost:8080/",
     "height": 71
    },
    "colab_type": "code",
    "executionInfo": {
     "elapsed": 527,
     "status": "ok",
     "timestamp": 1576821571439,
     "user": {
      "displayName": "김정욱",
      "photoUrl": "",
      "userId": "07474346534880337789"
     },
     "user_tz": -540
    },
    "id": "2dW_xl0r4gl9",
    "outputId": "974b78e8-2231-4c91-ad97-83f96e7ba8e6"
   },
   "outputs": [
    {
     "data": {
      "text/plain": [
       "array([[ 1,  2,  3],\n",
       "       [ 4,  5, 10],\n",
       "       [ 7,  8,  9]])"
      ]
     },
     "execution_count": 46,
     "metadata": {},
     "output_type": "execute_result"
    }
   ],
   "source": [
    "b"
   ]
  },
  {
   "cell_type": "code",
   "execution_count": 47,
   "metadata": {
    "colab": {
     "base_uri": "https://localhost:8080/",
     "height": 71
    },
    "colab_type": "code",
    "executionInfo": {
     "elapsed": 1019,
     "status": "ok",
     "timestamp": 1576821572221,
     "user": {
      "displayName": "김정욱",
      "photoUrl": "",
      "userId": "07474346534880337789"
     },
     "user_tz": -540
    },
    "id": "OxyEWZhj4gmA",
    "outputId": "134b86ae-3f55-46bb-9fe6-69c092d75df3"
   },
   "outputs": [
    {
     "data": {
      "text/plain": [
       "array([[1, 2, 3],\n",
       "       [4, 5, 6],\n",
       "       [7, 8, 9]])"
      ]
     },
     "execution_count": 47,
     "metadata": {},
     "output_type": "execute_result"
    }
   ],
   "source": [
    "b=np.arange(1,10)\n",
    "b=b.reshape(3,3)\n",
    "b"
   ]
  },
  {
   "cell_type": "code",
   "execution_count": 47,
   "metadata": {
    "colab": {
     "base_uri": "https://localhost:8080/",
     "height": 53
    },
    "colab_type": "code",
    "executionInfo": {
     "elapsed": 850,
     "status": "ok",
     "timestamp": 1576821572223,
     "user": {
      "displayName": "김정욱",
      "photoUrl": "",
      "userId": "07474346534880337789"
     },
     "user_tz": -540
    },
    "id": "GAR2yEpg4gmB",
    "outputId": "5991fe16-6dc3-4bdd-aeb8-a3431a98ccab"
   },
   "outputs": [
    {
     "data": {
      "text/plain": [
       "array([[2, 3],\n",
       "       [5, 6]])"
      ]
     },
     "execution_count": 47,
     "metadata": {
      "tags": []
     },
     "output_type": "execute_result"
    }
   ],
   "source": [
    "b[0:2, 1:3]"
   ]
  },
  {
   "cell_type": "markdown",
   "metadata": {
    "colab_type": "text",
    "id": "k40I0hZW4gmD"
   },
   "source": [
    "### 불리언 인덱싱 (Boolean indexing)"
   ]
  },
  {
   "cell_type": "code",
   "execution_count": 48,
   "metadata": {
    "colab": {
     "base_uri": "https://localhost:8080/",
     "height": 35
    },
    "colab_type": "code",
    "executionInfo": {
     "elapsed": 538,
     "status": "ok",
     "timestamp": 1576821572960,
     "user": {
      "displayName": "김정욱",
      "photoUrl": "",
      "userId": "07474346534880337789"
     },
     "user_tz": -540
    },
    "id": "wQ-RENBw4gmD",
    "outputId": "dffbd945-d2d8-4dc8-c47d-bfd23351f7d3"
   },
   "outputs": [
    {
     "data": {
      "text/plain": [
       "array([1, 2, 3, 4, 5, 6, 7, 8, 9])"
      ]
     },
     "execution_count": 48,
     "metadata": {},
     "output_type": "execute_result"
    }
   ],
   "source": [
    "a=np.arange(1,10)\n",
    "a"
   ]
  },
  {
   "cell_type": "markdown",
   "metadata": {
    "colab_type": "text",
    "id": "dhexgOlk4gmE"
   },
   "source": [
    "#### 조건에 해당하는 데이터값만 추출"
   ]
  },
  {
   "cell_type": "code",
   "execution_count": 49,
   "metadata": {
    "colab": {
     "base_uri": "https://localhost:8080/",
     "height": 35
    },
    "colab_type": "code",
    "executionInfo": {
     "elapsed": 1102,
     "status": "ok",
     "timestamp": 1576821576082,
     "user": {
      "displayName": "김정욱",
      "photoUrl": "",
      "userId": "07474346534880337789"
     },
     "user_tz": -540
    },
    "id": "FA9SPWgG4gmF",
    "outputId": "1e2fd2b0-ed4f-4f23-f83a-35ebfdcf79ef"
   },
   "outputs": [
    {
     "data": {
      "text/plain": [
       "array([5, 6, 7, 8, 9])"
      ]
     },
     "execution_count": 49,
     "metadata": {},
     "output_type": "execute_result"
    }
   ],
   "source": [
    "a1=a[a>4]\n",
    "a1"
   ]
  },
  {
   "cell_type": "markdown",
   "metadata": {
    "colab_type": "text",
    "id": "vMZqg8NU4gmG"
   },
   "source": [
    "#### 조건에 따라 True 또는 False 값을 반환"
   ]
  },
  {
   "cell_type": "code",
   "execution_count": 50,
   "metadata": {
    "colab": {
     "base_uri": "https://localhost:8080/",
     "height": 35
    },
    "colab_type": "code",
    "executionInfo": {
     "elapsed": 505,
     "status": "ok",
     "timestamp": 1576821577156,
     "user": {
      "displayName": "김정욱",
      "photoUrl": "",
      "userId": "07474346534880337789"
     },
     "user_tz": -540
    },
    "id": "dlHlhamG4gmG",
    "outputId": "28011a81-a7d7-4ac8-8d7a-9b0e768b58d7"
   },
   "outputs": [
    {
     "data": {
      "text/plain": [
       "array([False, False, False, False,  True,  True,  True,  True,  True])"
      ]
     },
     "execution_count": 50,
     "metadata": {},
     "output_type": "execute_result"
    }
   ],
   "source": [
    "a2=a>4\n",
    "a2"
   ]
  },
  {
   "cell_type": "code",
   "execution_count": 51,
   "metadata": {
    "colab": {
     "base_uri": "https://localhost:8080/",
     "height": 35
    },
    "colab_type": "code",
    "executionInfo": {
     "elapsed": 562,
     "status": "ok",
     "timestamp": 1576821578169,
     "user": {
      "displayName": "김정욱",
      "photoUrl": "",
      "userId": "07474346534880337789"
     },
     "user_tz": -540
    },
    "id": "ihyZaEjB4gmI",
    "outputId": "e3ee3a1a-aedb-48ee-a42c-46a4113c250b"
   },
   "outputs": [
    {
     "data": {
      "text/plain": [
       "array([5, 6, 7, 8, 9])"
      ]
     },
     "execution_count": 51,
     "metadata": {},
     "output_type": "execute_result"
    }
   ],
   "source": [
    "a3=a[a>4]\n",
    "a3"
   ]
  },
  {
   "cell_type": "markdown",
   "metadata": {
    "colab_type": "text",
    "id": "y5udHFow4gmJ"
   },
   "source": [
    "### 행렬의 정렬\n",
    "#### no.sort() : 원 행렬은 유지한 채 정렬된 행렬을 반환 "
   ]
  },
  {
   "cell_type": "code",
   "execution_count": 52,
   "metadata": {
    "colab": {
     "base_uri": "https://localhost:8080/",
     "height": 35
    },
    "colab_type": "code",
    "executionInfo": {
     "elapsed": 509,
     "status": "ok",
     "timestamp": 1576821579462,
     "user": {
      "displayName": "김정욱",
      "photoUrl": "",
      "userId": "07474346534880337789"
     },
     "user_tz": -540
    },
    "id": "FsjWazzC4gmJ",
    "outputId": "6da2f504-9ff7-4f5d-9053-385fd543b3cd"
   },
   "outputs": [
    {
     "data": {
      "text/plain": [
       "array([6, 3, 1, 9])"
      ]
     },
     "execution_count": 52,
     "metadata": {},
     "output_type": "execute_result"
    }
   ],
   "source": [
    "a=np.array([6,3,1,9])\n",
    "a"
   ]
  },
  {
   "cell_type": "code",
   "execution_count": 53,
   "metadata": {
    "colab": {
     "base_uri": "https://localhost:8080/",
     "height": 35
    },
    "colab_type": "code",
    "executionInfo": {
     "elapsed": 712,
     "status": "ok",
     "timestamp": 1576821580470,
     "user": {
      "displayName": "김정욱",
      "photoUrl": "",
      "userId": "07474346534880337789"
     },
     "user_tz": -540
    },
    "id": "NeVVnLtV4gmK",
    "outputId": "d94c645b-3d8f-47b3-df86-0cd8dcb90f4d"
   },
   "outputs": [
    {
     "data": {
      "text/plain": [
       "array([1, 3, 6, 9])"
      ]
     },
     "execution_count": 53,
     "metadata": {},
     "output_type": "execute_result"
    }
   ],
   "source": [
    "b=np.sort(a)\n",
    "b"
   ]
  },
  {
   "cell_type": "code",
   "execution_count": 54,
   "metadata": {
    "colab": {
     "base_uri": "https://localhost:8080/",
     "height": 35
    },
    "colab_type": "code",
    "executionInfo": {
     "elapsed": 673,
     "status": "ok",
     "timestamp": 1576821580843,
     "user": {
      "displayName": "김정욱",
      "photoUrl": "",
      "userId": "07474346534880337789"
     },
     "user_tz": -540
    },
    "id": "qZOSA4PS4gmM",
    "outputId": "46c43f58-a244-4b67-e1e9-3f68a9128b48"
   },
   "outputs": [
    {
     "data": {
      "text/plain": [
       "array([6, 3, 1, 9])"
      ]
     },
     "execution_count": 54,
     "metadata": {},
     "output_type": "execute_result"
    }
   ],
   "source": [
    "a"
   ]
  },
  {
   "cell_type": "markdown",
   "metadata": {
    "colab_type": "text",
    "id": "s_vAlSrG4gmN"
   },
   "source": [
    "#### ndarray.sort() : 원 행렬 자체를 정렬"
   ]
  },
  {
   "cell_type": "code",
   "execution_count": 55,
   "metadata": {
    "colab": {
     "base_uri": "https://localhost:8080/",
     "height": 35
    },
    "colab_type": "code",
    "executionInfo": {
     "elapsed": 832,
     "status": "ok",
     "timestamp": 1576821584514,
     "user": {
      "displayName": "김정욱",
      "photoUrl": "",
      "userId": "07474346534880337789"
     },
     "user_tz": -540
    },
    "id": "LhhzNFfJ4gmN",
    "outputId": "8558d135-777b-48f1-9e35-e58fbc1f151e"
   },
   "outputs": [
    {
     "data": {
      "text/plain": [
       "array([1, 3, 6, 9])"
      ]
     },
     "execution_count": 55,
     "metadata": {},
     "output_type": "execute_result"
    }
   ],
   "source": [
    "a.sort()\n",
    "a"
   ]
  },
  {
   "cell_type": "markdown",
   "metadata": {
    "colab_type": "text",
    "id": "kfflakeh4gmO"
   },
   "source": [
    "#### 행 별로, 열 별로 정렬\n",
    "\n",
    "axis 0 : row(행)\n",
    "\n",
    "axis 1 : column(열)"
   ]
  },
  {
   "cell_type": "code",
   "execution_count": 56,
   "metadata": {
    "colab": {
     "base_uri": "https://localhost:8080/",
     "height": 53
    },
    "colab_type": "code",
    "executionInfo": {
     "elapsed": 841,
     "status": "ok",
     "timestamp": 1576821592806,
     "user": {
      "displayName": "김정욱",
      "photoUrl": "",
      "userId": "07474346534880337789"
     },
     "user_tz": -540
    },
    "id": "ND5bfr6z4gmP",
    "outputId": "4c8e1074-630b-4b0a-f944-f4cfa77c2e1d"
   },
   "outputs": [
    {
     "data": {
      "text/plain": [
       "array([[5, 4, 1],\n",
       "       [3, 2, 6]])"
      ]
     },
     "execution_count": 56,
     "metadata": {},
     "output_type": "execute_result"
    }
   ],
   "source": [
    "b=np.array([[5,4,1],[3,2,6]])\n",
    "b"
   ]
  },
  {
   "cell_type": "code",
   "execution_count": 57,
   "metadata": {
    "colab": {
     "base_uri": "https://localhost:8080/",
     "height": 53
    },
    "colab_type": "code",
    "executionInfo": {
     "elapsed": 496,
     "status": "ok",
     "timestamp": 1576821593202,
     "user": {
      "displayName": "김정욱",
      "photoUrl": "",
      "userId": "07474346534880337789"
     },
     "user_tz": -540
    },
    "id": "SBeRj-PR4gmR",
    "outputId": "56604f86-6e21-43b4-c47b-9255219341e3"
   },
   "outputs": [
    {
     "data": {
      "text/plain": [
       "array([[3, 2, 1],\n",
       "       [5, 4, 6]])"
      ]
     },
     "execution_count": 57,
     "metadata": {},
     "output_type": "execute_result"
    }
   ],
   "source": [
    "np.sort(b, axis=0)"
   ]
  },
  {
   "cell_type": "code",
   "execution_count": 58,
   "metadata": {
    "colab": {
     "base_uri": "https://localhost:8080/",
     "height": 53
    },
    "colab_type": "code",
    "executionInfo": {
     "elapsed": 564,
     "status": "ok",
     "timestamp": 1576821594057,
     "user": {
      "displayName": "김정욱",
      "photoUrl": "",
      "userId": "07474346534880337789"
     },
     "user_tz": -540
    },
    "id": "L81DvMV34gmS",
    "outputId": "a9214731-0a0c-45b2-a5f7-767cec09314e"
   },
   "outputs": [
    {
     "data": {
      "text/plain": [
       "array([[1, 4, 5],\n",
       "       [2, 3, 6]])"
      ]
     },
     "execution_count": 58,
     "metadata": {
      "tags": []
     },
     "output_type": "execute_result"
    }
   ],
   "source": [
    "np.sort(b, axis=1)"
   ]
  },
  {
   "cell_type": "markdown",
   "metadata": {
    "colab_type": "text",
    "id": "5Eqoxesj4gmU"
   },
   "source": [
    "#### 정렬된 행렬의 인덱스 알아보기\n",
    "\n",
    "행렬을 정렬하면 해당 값의 인덱스는 어떻게 될까?"
   ]
  },
  {
   "cell_type": "code",
   "execution_count": 59,
   "metadata": {
    "colab": {
     "base_uri": "https://localhost:8080/",
     "height": 35
    },
    "colab_type": "code",
    "executionInfo": {
     "elapsed": 989,
     "status": "ok",
     "timestamp": 1576821596205,
     "user": {
      "displayName": "김정욱",
      "photoUrl": "",
      "userId": "07474346534880337789"
     },
     "user_tz": -540
    },
    "id": "iLJSFTKt4gmU",
    "outputId": "9e891c67-8cc9-4b8b-847c-ac81f23754f1",
    "scrolled": true
   },
   "outputs": [
    {
     "data": {
      "text/plain": [
       "array([2, 1, 0, 3])"
      ]
     },
     "execution_count": 59,
     "metadata": {
      "tags": []
     },
     "output_type": "execute_result"
    }
   ],
   "source": [
    "a=np.array([6,3,1,9])\n",
    "a1=np.argsort(a)\n",
    "a1"
   ]
  },
  {
   "cell_type": "markdown",
   "metadata": {
    "colab_type": "text",
    "id": "ffL4-amA4gmV"
   },
   "source": [
    "### random 함수\n",
    "\n",
    "#### random.rand : 괄호안의 숫자의 개수에 따라 적합한 numpy배열로  0 이상 1 미만의 임의의 값을 추출"
   ]
  },
  {
   "cell_type": "code",
   "execution_count": 62,
   "metadata": {
    "colab": {
     "base_uri": "https://localhost:8080/",
     "height": 35
    },
    "colab_type": "code",
    "executionInfo": {
     "elapsed": 977,
     "status": "ok",
     "timestamp": 1576821598552,
     "user": {
      "displayName": "김정욱",
      "photoUrl": "",
      "userId": "07474346534880337789"
     },
     "user_tz": -540
    },
    "id": "V7gGjVcB4gmW",
    "outputId": "93334260-1cb5-4e81-a97c-25797977028f"
   },
   "outputs": [
    {
     "data": {
      "text/plain": [
       "0.31548836145881565"
      ]
     },
     "execution_count": 62,
     "metadata": {},
     "output_type": "execute_result"
    }
   ],
   "source": [
    "np.random.rand()"
   ]
  },
  {
   "cell_type": "code",
   "execution_count": 66,
   "metadata": {
    "colab": {
     "base_uri": "https://localhost:8080/",
     "height": 53
    },
    "colab_type": "code",
    "executionInfo": {
     "elapsed": 559,
     "status": "ok",
     "timestamp": 1576821598920,
     "user": {
      "displayName": "김정욱",
      "photoUrl": "",
      "userId": "07474346534880337789"
     },
     "user_tz": -540
    },
    "id": "eo6uyZRo4gmX",
    "outputId": "363425ed-af13-4104-efe1-5dbbda08c24d"
   },
   "outputs": [
    {
     "data": {
      "text/plain": [
       "array([[0.05499141, 0.6282558 , 0.75903787],\n",
       "       [0.62838802, 0.81089338, 0.03817226]])"
      ]
     },
     "execution_count": 66,
     "metadata": {},
     "output_type": "execute_result"
    }
   ],
   "source": [
    "np.random.rand(2,3)"
   ]
  },
  {
   "cell_type": "markdown",
   "metadata": {
    "colab_type": "text",
    "id": "1Z2tlrxp4gmY"
   },
   "source": [
    "#### random.randint : 지정한 값 사이의 정수를 랜덤으로 호출"
   ]
  },
  {
   "cell_type": "code",
   "execution_count": 70,
   "metadata": {
    "colab": {
     "base_uri": "https://localhost:8080/",
     "height": 35
    },
    "colab_type": "code",
    "executionInfo": {
     "elapsed": 1456,
     "status": "ok",
     "timestamp": 1576821610404,
     "user": {
      "displayName": "김정욱",
      "photoUrl": "",
      "userId": "07474346534880337789"
     },
     "user_tz": -540
    },
    "id": "lzQjmJGQ4gmc",
    "outputId": "04ac9062-7a07-4ede-c4c6-ddce794007b0"
   },
   "outputs": [
    {
     "data": {
      "text/plain": [
       "1"
      ]
     },
     "execution_count": 70,
     "metadata": {},
     "output_type": "execute_result"
    }
   ],
   "source": [
    "np.random.randint(1,10)"
   ]
  },
  {
   "cell_type": "code",
   "execution_count": 77,
   "metadata": {
    "colab": {
     "base_uri": "https://localhost:8080/",
     "height": 108
    },
    "colab_type": "code",
    "executionInfo": {
     "elapsed": 958,
     "status": "ok",
     "timestamp": 1576821610406,
     "user": {
      "displayName": "김정욱",
      "photoUrl": "",
      "userId": "07474346534880337789"
     },
     "user_tz": -540
    },
    "id": "jYid5NQj4gmf",
    "outputId": "4f6dc5df-7c4a-421f-dbf0-3c4624e5da95"
   },
   "outputs": [
    {
     "data": {
      "text/plain": [
       "array([[3, 9, 7, 8, 7],\n",
       "       [1, 4, 8, 4, 8],\n",
       "       [8, 6, 2, 8, 7],\n",
       "       [5, 4, 5, 1, 8],\n",
       "       [5, 9, 4, 8, 3]])"
      ]
     },
     "execution_count": 77,
     "metadata": {},
     "output_type": "execute_result"
    }
   ],
   "source": [
    "np.random.randint(1,10,(5,5))"
   ]
  },
  {
   "cell_type": "markdown",
   "metadata": {
    "colab_type": "text",
    "id": "skNaSG0N4gmg"
   },
   "source": [
    "### 행렬 연산"
   ]
  },
  {
   "cell_type": "code",
   "execution_count": 78,
   "metadata": {
    "colab": {
     "base_uri": "https://localhost:8080/",
     "height": 35
    },
    "colab_type": "code",
    "executionInfo": {
     "elapsed": 553,
     "status": "ok",
     "timestamp": 1576821612171,
     "user": {
      "displayName": "김정욱",
      "photoUrl": "",
      "userId": "07474346534880337789"
     },
     "user_tz": -540
    },
    "id": "pDPIl9ou4gmg",
    "outputId": "fb17c91c-03b4-439b-f9de-35a480168ded"
   },
   "outputs": [
    {
     "data": {
      "text/plain": [
       "array([11, 12, 13, 14, 15])"
      ]
     },
     "execution_count": 78,
     "metadata": {},
     "output_type": "execute_result"
    }
   ],
   "source": [
    "a=np.array([1,2,3,4,5])\n",
    "a+10"
   ]
  },
  {
   "cell_type": "code",
   "execution_count": 80,
   "metadata": {
    "colab": {
     "base_uri": "https://localhost:8080/",
     "height": 35
    },
    "colab_type": "code",
    "executionInfo": {
     "elapsed": 892,
     "status": "ok",
     "timestamp": 1576821613215,
     "user": {
      "displayName": "김정욱",
      "photoUrl": "",
      "userId": "07474346534880337789"
     },
     "user_tz": -540
    },
    "id": "rZpc40Ob4gmh",
    "outputId": "ae38e823-ef63-4592-bec2-d09352610886"
   },
   "outputs": [
    {
     "data": {
      "text/plain": [
       "array([-9, -8, -7, -6, -5])"
      ]
     },
     "execution_count": 80,
     "metadata": {},
     "output_type": "execute_result"
    }
   ],
   "source": [
    "a-10"
   ]
  },
  {
   "cell_type": "code",
   "execution_count": 81,
   "metadata": {
    "colab": {
     "base_uri": "https://localhost:8080/",
     "height": 35
    },
    "colab_type": "code",
    "executionInfo": {
     "elapsed": 535,
     "status": "ok",
     "timestamp": 1576821613605,
     "user": {
      "displayName": "김정욱",
      "photoUrl": "",
      "userId": "07474346534880337789"
     },
     "user_tz": -540
    },
    "id": "lML8ToNi4gmi",
    "outputId": "be555ced-3e76-4e72-b118-0631ef593c3d"
   },
   "outputs": [
    {
     "data": {
      "text/plain": [
       "array([ 2,  4,  6,  8, 10])"
      ]
     },
     "execution_count": 81,
     "metadata": {},
     "output_type": "execute_result"
    }
   ],
   "source": [
    "a*2"
   ]
  },
  {
   "cell_type": "code",
   "execution_count": 82,
   "metadata": {
    "colab": {
     "base_uri": "https://localhost:8080/",
     "height": 35
    },
    "colab_type": "code",
    "executionInfo": {
     "elapsed": 533,
     "status": "ok",
     "timestamp": 1576821614046,
     "user": {
      "displayName": "김정욱",
      "photoUrl": "",
      "userId": "07474346534880337789"
     },
     "user_tz": -540
    },
    "id": "l1kBiCY_4gmk",
    "outputId": "20cb5810-d15b-414f-c8d9-52d40a0ee0d7"
   },
   "outputs": [
    {
     "data": {
      "text/plain": [
       "array([0.33333333, 0.66666667, 1.        , 1.33333333, 1.66666667])"
      ]
     },
     "execution_count": 82,
     "metadata": {},
     "output_type": "execute_result"
    }
   ],
   "source": [
    "a/3"
   ]
  },
  {
   "cell_type": "code",
   "execution_count": 83,
   "metadata": {
    "colab": {},
    "colab_type": "code",
    "id": "Zp4JNa7z4gml"
   },
   "outputs": [],
   "source": [
    "b=np.array([6,7,8,9,10])"
   ]
  },
  {
   "cell_type": "code",
   "execution_count": 84,
   "metadata": {
    "colab": {
     "base_uri": "https://localhost:8080/",
     "height": 35
    },
    "colab_type": "code",
    "executionInfo": {
     "elapsed": 845,
     "status": "ok",
     "timestamp": 1576821615214,
     "user": {
      "displayName": "김정욱",
      "photoUrl": "",
      "userId": "07474346534880337789"
     },
     "user_tz": -540
    },
    "id": "PPHqTqBU4gmn",
    "outputId": "0bfa7388-b3a1-43d4-eeb9-f2652cea79df"
   },
   "outputs": [
    {
     "data": {
      "text/plain": [
       "array([ 7,  9, 11, 13, 15])"
      ]
     },
     "execution_count": 84,
     "metadata": {},
     "output_type": "execute_result"
    }
   ],
   "source": [
    "a+b"
   ]
  },
  {
   "cell_type": "code",
   "execution_count": 85,
   "metadata": {
    "colab": {
     "base_uri": "https://localhost:8080/",
     "height": 35
    },
    "colab_type": "code",
    "executionInfo": {
     "elapsed": 2257,
     "status": "ok",
     "timestamp": 1576821617012,
     "user": {
      "displayName": "김정욱",
      "photoUrl": "",
      "userId": "07474346534880337789"
     },
     "user_tz": -540
    },
    "id": "OzneSrdO4gmo",
    "outputId": "507fa26d-f5f9-4b9f-ded0-b5c720d0707f"
   },
   "outputs": [
    {
     "data": {
      "text/plain": [
       "array([ 6, 14, 24, 36, 50])"
      ]
     },
     "execution_count": 85,
     "metadata": {},
     "output_type": "execute_result"
    }
   ],
   "source": [
    "a*b"
   ]
  },
  {
   "cell_type": "markdown",
   "metadata": {
    "colab_type": "text",
    "id": "CS1HvOUE4gmp"
   },
   "source": [
    "### 선형대수 연산\n",
    "#### 행렬 내적"
   ]
  },
  {
   "cell_type": "code",
   "execution_count": 0,
   "metadata": {
    "colab": {},
    "colab_type": "code",
    "id": "RqGIGapY4gmq"
   },
   "outputs": [],
   "source": [
    "a=np.array([[1,2,3],[4,5,6]])\n",
    "b=np.array([[7,8],[9,10],[11,12]])"
   ]
  },
  {
   "cell_type": "code",
   "execution_count": 72,
   "metadata": {
    "colab": {
     "base_uri": "https://localhost:8080/",
     "height": 53
    },
    "colab_type": "code",
    "executionInfo": {
     "elapsed": 684,
     "status": "ok",
     "timestamp": 1576821617389,
     "user": {
      "displayName": "김정욱",
      "photoUrl": "",
      "userId": "07474346534880337789"
     },
     "user_tz": -540
    },
    "id": "jBrqM2pl4gmr",
    "outputId": "e0acdf42-9de8-46c1-e7b6-d7b85a16789d"
   },
   "outputs": [
    {
     "data": {
      "text/plain": [
       "array([[ 58,  64],\n",
       "       [139, 154]])"
      ]
     },
     "execution_count": 72,
     "metadata": {
      "tags": []
     },
     "output_type": "execute_result"
    }
   ],
   "source": [
    "np.dot(a,b)"
   ]
  },
  {
   "cell_type": "markdown",
   "metadata": {
    "colab_type": "text",
    "id": "K7c2rsr74gms"
   },
   "source": [
    "#### 전치 행렬"
   ]
  },
  {
   "cell_type": "code",
   "execution_count": 73,
   "metadata": {
    "colab": {
     "base_uri": "https://localhost:8080/",
     "height": 71
    },
    "colab_type": "code",
    "executionInfo": {
     "elapsed": 856,
     "status": "ok",
     "timestamp": 1576821628449,
     "user": {
      "displayName": "김정욱",
      "photoUrl": "",
      "userId": "07474346534880337789"
     },
     "user_tz": -540
    },
    "id": "iMY8OogH4gms",
    "outputId": "f70daca0-b8f5-4a88-89f5-5c173ac1f35a"
   },
   "outputs": [
    {
     "data": {
      "text/plain": [
       "array([[1, 4],\n",
       "       [2, 5],\n",
       "       [3, 6]])"
      ]
     },
     "execution_count": 73,
     "metadata": {
      "tags": []
     },
     "output_type": "execute_result"
    }
   ],
   "source": [
    "np.transpose(a)"
   ]
  },
  {
   "cell_type": "code",
   "execution_count": 0,
   "metadata": {
    "colab": {},
    "colab_type": "code",
    "id": "QXJfr5bP4gmt"
   },
   "outputs": [],
   "source": []
  }
 ],
 "metadata": {
  "colab": {
   "name": "Numpy.ipynb",
   "provenance": []
  },
  "kernelspec": {
   "display_name": "Python 3",
   "language": "python",
   "name": "python3"
  },
  "language_info": {
   "codemirror_mode": {
    "name": "ipython",
    "version": 3
   },
   "file_extension": ".py",
   "mimetype": "text/x-python",
   "name": "python",
   "nbconvert_exporter": "python",
   "pygments_lexer": "ipython3",
   "version": "3.8.8"
  }
 },
 "nbformat": 4,
 "nbformat_minor": 1
}
