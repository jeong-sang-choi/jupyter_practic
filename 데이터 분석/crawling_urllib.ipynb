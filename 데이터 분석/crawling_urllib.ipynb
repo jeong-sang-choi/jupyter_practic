{
 "cells": [
  {
   "cell_type": "markdown",
   "metadata": {},
   "source": [
    "## requests 라이브러리와 urllib 라이브러리 비교\n",
    "- 기존에는 urllib + bs4 셋트로 많이 사용됨\n",
    "- 최근에는 requests + bs4 셋트로 많이 사용됨\n",
    "- 기존 코드 중 일부가 urllib 을 사용하는 경우가 있으므로, 참고로 간단한 사용법만 익히기로 함\n",
    "\n",
    "> 경우에 따라 urllib 송수신시 인코딩 처리가 달라서, urllib 으로는 정상적으로 데이터를 가져오는 경우가 간혹 있음 (예전 사이트의 경우)\n",
    "> 최근에는 대부분의 사이트가 인코딩 처리를 유니코드로 설정하고 있으므로, 이런 경우는 극히 드물다고 보면 됨\n",
    "\n",
    "- requests 라이브러리를 사용해서 크롤링을 진행하고,\n",
    "  - 문제가 있어보이는 경우만, urllib 으로도 한번 실행해보면 좋음\n",
    " "
   ]
  },
  {
   "cell_type": "markdown",
   "metadata": {},
   "source": [
    "### requests 라이브러리로 작성한 코드"
   ]
  },
  {
   "cell_type": "code",
   "execution_count": 23,
   "metadata": {},
   "outputs": [
    {
     "name": "stdout",
     "output_type": "stream",
     "text": [
      "상품명: 보몽드 순면스퀘어 솔리드 누빔매트커버, 다크블루\n",
      "상품명: 슈에뜨룸 선인장 리플 침구 세트, 베이지\n",
      "상품명: 선우랜드 레인보우 2단 문걸이용 옷걸이 _중형, 화이트, 상세페이지참조\n",
      "상품명: 보드래 헬로우 누빔 매트리스커버, 핑크\n",
      "상품명: 보드래 퍼펙트 누빔 매트리스커버, 차콜\n",
      "상품명: 피아블 클래식 방수 매트리스커버, 화이트\n",
      "상품명: 더자리 에코항균 마이크로 매트리스커버, 밀키차콜그레이\n",
      "상품명: 더자리 프레쉬 퓨어 매트리스 커버, 퓨어 차콜그레이\n",
      "상품명: 몽쉐어 알러스킨 항균 매트리스 커버, 카키그레이\n",
      "상품명: 쿠팡 브랜드 - 코멧 홈 40수 트윌 순면 100% 홑겹 매트리스커버, 그레이\n",
      "상품명: 패브릭아트 항균 마이크로 원단 매트리스 커버, 아이보리\n",
      "상품명: 바숨 순면 누빔 침대 매트리스커버, 차콜\n",
      "상품명: WEMAX 다용도 문옷걸이, 화이트, 1개\n",
      "상품명: 타카타카 프리미엄 나노 화이바 누빔 매트리스 커버, 젠틀핑핑\n",
      "상품명: 보몽드 순면스퀘어 누빔매트커버, 다크그레이\n",
      "상품명: 보드래 국내산 순면 60수 누빔 매트리스커버, 그레이\n"
     ]
    }
   ],
   "source": [
    "import requests\n",
    "from bs4 import BeautifulSoup\n",
    "\n",
    "res = requests.get('https://davelee-fun.github.io/')\n",
    "soup = BeautifulSoup(res.content, 'html.parser')\n",
    "\n",
    "data = soup.select('h4.card-text')\n",
    "for item in data:\n",
    "    print (item.get_text().strip())"
   ]
  },
  {
   "cell_type": "markdown",
   "metadata": {},
   "source": [
    "### urllib 라이브러리로 작성한 코드"
   ]
  },
  {
   "cell_type": "code",
   "execution_count": 25,
   "metadata": {},
   "outputs": [
    {
     "name": "stdout",
     "output_type": "stream",
     "text": [
      "상품명: 보몽드 순면스퀘어 솔리드 누빔매트커버, 다크블루\n",
      "상품명: 슈에뜨룸 선인장 리플 침구 세트, 베이지\n",
      "상품명: 선우랜드 레인보우 2단 문걸이용 옷걸이 _중형, 화이트, 상세페이지참조\n",
      "상품명: 보드래 헬로우 누빔 매트리스커버, 핑크\n",
      "상품명: 보드래 퍼펙트 누빔 매트리스커버, 차콜\n",
      "상품명: 피아블 클래식 방수 매트리스커버, 화이트\n",
      "상품명: 더자리 에코항균 마이크로 매트리스커버, 밀키차콜그레이\n",
      "상품명: 더자리 프레쉬 퓨어 매트리스 커버, 퓨어 차콜그레이\n",
      "상품명: 몽쉐어 알러스킨 항균 매트리스 커버, 카키그레이\n",
      "상품명: 쿠팡 브랜드 - 코멧 홈 40수 트윌 순면 100% 홑겹 매트리스커버, 그레이\n",
      "상품명: 패브릭아트 항균 마이크로 원단 매트리스 커버, 아이보리\n",
      "상품명: 바숨 순면 누빔 침대 매트리스커버, 차콜\n",
      "상품명: WEMAX 다용도 문옷걸이, 화이트, 1개\n",
      "상품명: 타카타카 프리미엄 나노 화이바 누빔 매트리스 커버, 젠틀핑핑\n",
      "상품명: 보몽드 순면스퀘어 누빔매트커버, 다크그레이\n",
      "상품명: 보드래 국내산 순면 60수 누빔 매트리스커버, 그레이\n"
     ]
    }
   ],
   "source": [
    "from urllib.request import urlopen\n",
    "from bs4 import BeautifulSoup\n",
    "\n",
    "res = urlopen('https://davelee-fun.github.io/')\n",
    "soup = BeautifulSoup(res, 'html.parser')\n",
    "\n",
    "data = soup.select('h4.card-text')\n",
    "for item in data:\n",
    "    print (item.get_text().strip())"
   ]
  },
  {
   "cell_type": "markdown",
   "metadata": {},
   "source": [
    "### HTTP response code (크롤링할 페이지가 없는 경우 확인 방법)\n",
    "- HTTP 라는 프로토콜 규격에 따라서, 응답 데이터에 응답 코드(response code)를 넣어서 보내게 됨\n",
    "  - requests 라이브러리의 경우, requests.get() 의 리턴변수.status_code 에서 응답 코드를 확인할 수 있음\n",
    "  - HTTP 규격에 따라 응답 코드가 200 인 경우는 정상 응답, 그렇지 않으면 무언가 문제가 있다는 뜻\n",
    "    - 참고: https://ko.wikipedia.org/wiki/HTTP_%EC%83%81%ED%83%9C_%EC%BD%94%EB%93%9C\n",
    "    - 특정 페이지 요청 후, 응답 코드가 200 이 아니면, 특정 페이지가 없는 경우 (또는 결과적으로는 문제가 있는 경우)라고 인지할 수 있음"
   ]
  },
  {
   "cell_type": "code",
   "execution_count": 1,
   "metadata": {},
   "outputs": [
    {
     "name": "stdout",
     "output_type": "stream",
     "text": [
      "페이지 없음\n"
     ]
    }
   ],
   "source": [
    "import requests\n",
    "from bs4 import BeautifulSoup\n",
    "\n",
    "res = requests.get('https://davelee-fun.github.io/xxx')\n",
    "if res.status_code != 200: #res.status_code에 응답코드 저장\n",
    "    print ('페이지 없음')\n",
    "else:\n",
    "    soup = BeautifulSoup(res.content, 'html.parser') #여기에 html코드가 들어감\n",
    "\n",
    "    data = soup.select('h4.card-text')\n",
    "    for item in data:\n",
    "        print (item.get_text())"
   ]
  },
  {
   "cell_type": "markdown",
   "metadata": {},
   "source": [
    "### 여러 페이지를 한번에 크롤링하는 기법"
   ]
  },
  {
   "cell_type": "code",
   "execution_count": 12,
   "metadata": {},
   "outputs": [
    {
     "name": "stdout",
     "output_type": "stream",
     "text": [
      "상품명: 보몽드 순면스퀘어 솔리드 누빔매트커버, 다크블루\n",
      "상품명: 슈에뜨룸 선인장 리플 침구 세트, 베이지\n",
      "상품명: 선우랜드 레인보우 2단 문걸이용 옷걸이 _중형, 화이트, 상세페이지참조\n",
      "상품명: 보드래 헬로우 누빔 매트리스커버, 핑크\n",
      "상품명: 보드래 퍼펙트 누빔 매트리스커버, 차콜\n",
      "상품명: 피아블 클래식 방수 매트리스커버, 화이트\n",
      "상품명: 더자리 에코항균 마이크로 매트리스커버, 밀키차콜그레이\n",
      "상품명: 더자리 프레쉬 퓨어 매트리스 커버, 퓨어 차콜그레이\n",
      "상품명: 몽쉐어 알러스킨 항균 매트리스 커버, 카키그레이\n",
      "상품명: 쿠팡 브랜드 - 코멧 홈 40수 트윌 순면 100% 홑겹 매트리스커버, 그레이\n",
      "상품명: 패브릭아트 항균 마이크로 원단 매트리스 커버, 아이보리\n",
      "상품명: 바숨 순면 누빔 침대 매트리스커버, 차콜\n",
      "상품명: WEMAX 다용도 문옷걸이, 화이트, 1개\n",
      "상품명: 타카타카 프리미엄 나노 화이바 누빔 매트리스 커버, 젠틀핑핑\n",
      "상품명: 보몽드 순면스퀘어 누빔매트커버, 다크그레이\n",
      "상품명: 보드래 국내산 순면 60수 누빔 매트리스커버, 그레이\n"
     ]
    }
   ],
   "source": [
    "# import requests\n",
    "# from bs4 import BeautifulSoup\n",
    "\n",
    "# for page_num in range(10):\n",
    "#     if page_num == 0:\n",
    "#         res = requests.get('https://davelee-fun.github.io/')\n",
    "#     else:\n",
    "#         res = requests.get('https://davelee-fun.github.io/page' + str(page_num + 1))\n",
    "#     soup = BeautifulSoup(res.content, 'html.parser')\n",
    "\n",
    "#     data = soup.select('h4.card-text')\n",
    "#     for item in data:\n",
    "#         print (item.get_text().strip())\n",
    "        \n",
    "for page_num in range(10):\n",
    "    if page_num == 0:\n",
    "        res = requests.get(\"https://davelee-fun.github.io/\")\n",
    "        \n",
    "    else:\n",
    "        res = requests.get(\"https://davelee-fun.github.io/\" + str(page_num))\n",
    "    soup = BeautifulSoup(res.content, \"html.parser\")\n",
    "    data = soup.select(\"h4.card-text\")\n",
    "    \n",
    "    for item in data:\n",
    "        print(item.get_text().strip())\n",
    "        "
   ]
  },
  {
   "cell_type": "code",
   "execution_count": null,
   "metadata": {},
   "outputs": [],
   "source": []
  },
  {
   "cell_type": "code",
   "execution_count": null,
   "metadata": {},
   "outputs": [],
   "source": []
  },
  {
   "cell_type": "code",
   "execution_count": null,
   "metadata": {},
   "outputs": [],
   "source": []
  },
  {
   "cell_type": "code",
   "execution_count": null,
   "metadata": {},
   "outputs": [],
   "source": []
  },
  {
   "cell_type": "code",
   "execution_count": null,
   "metadata": {},
   "outputs": [],
   "source": []
  },
  {
   "cell_type": "code",
   "execution_count": null,
   "metadata": {},
   "outputs": [],
   "source": []
  },
  {
   "cell_type": "code",
   "execution_count": null,
   "metadata": {},
   "outputs": [],
   "source": []
  },
  {
   "cell_type": "code",
   "execution_count": null,
   "metadata": {},
   "outputs": [],
   "source": []
  },
  {
   "cell_type": "code",
   "execution_count": null,
   "metadata": {},
   "outputs": [],
   "source": []
  },
  {
   "cell_type": "code",
   "execution_count": null,
   "metadata": {},
   "outputs": [],
   "source": []
  }
 ],
 "metadata": {
  "kernelspec": {
   "display_name": "Python 3",
   "language": "python",
   "name": "python3"
  },
  "language_info": {
   "codemirror_mode": {
    "name": "ipython",
    "version": 3
   },
   "file_extension": ".py",
   "mimetype": "text/x-python",
   "name": "python",
   "nbconvert_exporter": "python",
   "pygments_lexer": "ipython3",
   "version": "3.8.8"
  },
  "nbTranslate": {
   "displayLangs": [
    "*"
   ],
   "hotkey": "alt-t",
   "langInMainMenu": true,
   "sourceLang": "en",
   "targetLang": "fr",
   "useGoogleTranslate": true
  }
 },
 "nbformat": 4,
 "nbformat_minor": 1
}
